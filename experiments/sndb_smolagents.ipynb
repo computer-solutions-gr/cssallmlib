{
 "cells": [
  {
   "cell_type": "code",
   "execution_count": 6,
   "metadata": {},
   "outputs": [
    {
     "data": {
      "text/html": [
       "<pre style=\"white-space:pre;overflow-x:auto;line-height:normal;font-family:Menlo,'DejaVu Sans Mono',consolas,'Courier New',monospace\"><span style=\"color: #d4b702; text-decoration-color: #d4b702\">╭──────────────────────────────────────────────────── </span><span style=\"color: #d4b702; text-decoration-color: #d4b702; font-weight: bold\">New run</span><span style=\"color: #d4b702; text-decoration-color: #d4b702\"> ────────────────────────────────────────────────────╮</span>\n",
       "<span style=\"color: #d4b702; text-decoration-color: #d4b702\">│</span>                                                                                                                 <span style=\"color: #d4b702; text-decoration-color: #d4b702\">│</span>\n",
       "<span style=\"color: #d4b702; text-decoration-color: #d4b702\">│</span> <span style=\"font-weight: bold\">Provide an envent speaker introduction for Dr Stavros Pitoglou, CTO of Computer Solutions in Greece?</span>            <span style=\"color: #d4b702; text-decoration-color: #d4b702\">│</span>\n",
       "<span style=\"color: #d4b702; text-decoration-color: #d4b702\">│</span>                                                                                                                 <span style=\"color: #d4b702; text-decoration-color: #d4b702\">│</span>\n",
       "<span style=\"color: #d4b702; text-decoration-color: #d4b702\">╰─ HfApiModel - Qwen/Qwen2.5-Coder-32B-Instruct ──────────────────────────────────────────────────────────────────╯</span>\n",
       "</pre>\n"
      ],
      "text/plain": [
       "\u001b[38;2;212;183;2m╭─\u001b[0m\u001b[38;2;212;183;2m───────────────────────────────────────────────────\u001b[0m\u001b[38;2;212;183;2m \u001b[0m\u001b[1;38;2;212;183;2mNew run\u001b[0m\u001b[38;2;212;183;2m \u001b[0m\u001b[38;2;212;183;2m───────────────────────────────────────────────────\u001b[0m\u001b[38;2;212;183;2m─╮\u001b[0m\n",
       "\u001b[38;2;212;183;2m│\u001b[0m                                                                                                                 \u001b[38;2;212;183;2m│\u001b[0m\n",
       "\u001b[38;2;212;183;2m│\u001b[0m \u001b[1mProvide an envent speaker introduction for Dr Stavros Pitoglou, CTO of Computer Solutions in Greece?\u001b[0m            \u001b[38;2;212;183;2m│\u001b[0m\n",
       "\u001b[38;2;212;183;2m│\u001b[0m                                                                                                                 \u001b[38;2;212;183;2m│\u001b[0m\n",
       "\u001b[38;2;212;183;2m╰─\u001b[0m\u001b[38;2;212;183;2m HfApiModel - Qwen/Qwen2.5-Coder-32B-Instruct \u001b[0m\u001b[38;2;212;183;2m─────────────────────────────────────────────────────────────────\u001b[0m\u001b[38;2;212;183;2m─╯\u001b[0m\n"
      ]
     },
     "metadata": {},
     "output_type": "display_data"
    },
    {
     "data": {
      "text/html": [
       "<pre style=\"white-space:pre;overflow-x:auto;line-height:normal;font-family:Menlo,'DejaVu Sans Mono',consolas,'Courier New',monospace\"><span style=\"color: #d4b702; text-decoration-color: #d4b702\">━━━━━━━━━━━━━━━━━━━━━━━━━━━━━━━━━━━━━━━━━━━━━━━━━━━━━ </span><span style=\"font-weight: bold\">Step </span><span style=\"color: #008080; text-decoration-color: #008080; font-weight: bold\">1</span><span style=\"color: #d4b702; text-decoration-color: #d4b702\"> ━━━━━━━━━━━━━━━━━━━━━━━━━━━━━━━━━━━━━━━━━━━━━━━━━━━━━━</span>\n",
       "</pre>\n"
      ],
      "text/plain": [
       "\u001b[38;2;212;183;2m━━━━━━━━━━━━━━━━━━━━━━━━━━━━━━━━━━━━━━━━━━━━━━━━━━━━━ \u001b[0m\u001b[1mStep \u001b[0m\u001b[1;36m1\u001b[0m\u001b[38;2;212;183;2m ━━━━━━━━━━━━━━━━━━━━━━━━━━━━━━━━━━━━━━━━━━━━━━━━━━━━━━\u001b[0m\n"
      ]
     },
     "metadata": {},
     "output_type": "display_data"
    },
    {
     "data": {
      "text/html": [
       "<pre style=\"white-space:pre;overflow-x:auto;line-height:normal;font-family:Menlo,'DejaVu Sans Mono',consolas,'Courier New',monospace\"> ─ <span style=\"font-weight: bold\">Executing parsed code:</span> ──────────────────────────────────────────────────────────────────────────────────────── \n",
       "  <span style=\"color: #f8f8f2; text-decoration-color: #f8f8f2; background-color: #272822\">pitoglou_info </span><span style=\"color: #ff4689; text-decoration-color: #ff4689; background-color: #272822\">=</span><span style=\"color: #f8f8f2; text-decoration-color: #f8f8f2; background-color: #272822\"> web_search(query</span><span style=\"color: #ff4689; text-decoration-color: #ff4689; background-color: #272822\">=</span><span style=\"color: #e6db74; text-decoration-color: #e6db74; background-color: #272822\">\"Stavros Pitoglou CTO Computer Solutions Greece\"</span><span style=\"color: #f8f8f2; text-decoration-color: #f8f8f2; background-color: #272822\">)</span><span style=\"background-color: #272822\">                             </span>  \n",
       "  <span style=\"color: #f8f8f2; text-decoration-color: #f8f8f2; background-color: #272822\">print(pitoglou_info)</span><span style=\"background-color: #272822\">                                                                                           </span>  \n",
       " ───────────────────────────────────────────────────────────────────────────────────────────────────────────────── \n",
       "</pre>\n"
      ],
      "text/plain": [
       " ─ \u001b[1mExecuting parsed code:\u001b[0m ──────────────────────────────────────────────────────────────────────────────────────── \n",
       "  \u001b[38;2;248;248;242;48;2;39;40;34mpitoglou_info\u001b[0m\u001b[38;2;248;248;242;48;2;39;40;34m \u001b[0m\u001b[38;2;255;70;137;48;2;39;40;34m=\u001b[0m\u001b[38;2;248;248;242;48;2;39;40;34m \u001b[0m\u001b[38;2;248;248;242;48;2;39;40;34mweb_search\u001b[0m\u001b[38;2;248;248;242;48;2;39;40;34m(\u001b[0m\u001b[38;2;248;248;242;48;2;39;40;34mquery\u001b[0m\u001b[38;2;255;70;137;48;2;39;40;34m=\u001b[0m\u001b[38;2;230;219;116;48;2;39;40;34m\"\u001b[0m\u001b[38;2;230;219;116;48;2;39;40;34mStavros Pitoglou CTO Computer Solutions Greece\u001b[0m\u001b[38;2;230;219;116;48;2;39;40;34m\"\u001b[0m\u001b[38;2;248;248;242;48;2;39;40;34m)\u001b[0m\u001b[48;2;39;40;34m                             \u001b[0m  \n",
       "  \u001b[38;2;248;248;242;48;2;39;40;34mprint\u001b[0m\u001b[38;2;248;248;242;48;2;39;40;34m(\u001b[0m\u001b[38;2;248;248;242;48;2;39;40;34mpitoglou_info\u001b[0m\u001b[38;2;248;248;242;48;2;39;40;34m)\u001b[0m\u001b[48;2;39;40;34m                                                                                           \u001b[0m  \n",
       " ───────────────────────────────────────────────────────────────────────────────────────────────────────────────── \n"
      ]
     },
     "metadata": {},
     "output_type": "display_data"
    },
    {
     "data": {
      "text/html": [
       "<pre style=\"white-space:pre;overflow-x:auto;line-height:normal;font-family:Menlo,'DejaVu Sans Mono',consolas,'Courier New',monospace\"><span style=\"font-weight: bold\">Execution logs:</span>\n",
       "## Search Results\n",
       "\n",
       "[Σταύρος Πιτόγλου - Τεχνικός Διευθυντής - | Computer Solutions S.A. \n",
       "LinkedIn](https://gr.linkedin.com/in/stavrospitoglou/el)\n",
       "Διευθυντής Ανάπτυξης και Σχεδιασμού στην Computer Solutions ΑΒΕΕ · Dr Stavros Pitoglou received his BSc in Physics \n",
       "from the University of Patras, Greece, in 2000 and his PhD Degree from the National Technical University of Athens \n",
       "in 2023. He currently holds the Chief Technical Officer position at Computer Solutions SA and is responsible for \n",
       "the company ...\n",
       "\n",
       "[Stavros Pitoglou | ethosEVENTS](https://ethosevents.eu/en/speaker/stavros-pitoglou-2/)\n",
       "Stavros Pitoglou Chief Technical Officer, Computer Solutions. Stavros Pitoglou received his BSc in Physics from the\n",
       "University of Patras, Greece in 2000. He currently holds the Chief Technical Officer position in Computer Solutions\n",
       "SA, being responsible for the company's Research and Development activities.\n",
       "\n",
       "[Πίτογλου Σταύρος - Εργαστήριο Βιοϊατρικής Τεχνολογίας](https://www.biomed.ntua.gr/el/item/pitoglou-stavros/)\n",
       "Ο Σταύρος Πιτόγλου είναι Τεχνικός Διευθυντής (CTO-Chief Technical Officer) και υπεύθυνος για τις δραστηριότητες \n",
       "Έρευνας και Ανάπτυξης (R&amp;D-Research &amp; Development) της εταιρείας Computer Solutions ΑΒΕΕ στην οποία εργάζεται από \n",
       "το 2003.\n",
       "\n",
       "[Σταύρος Πιτόγλου - ethosEVENTS](https://ethosevents.eu/speaker/stavros-pitoglou/)\n",
       "Σταύρος Πιτόγλου Chief Technical Officer, Computer Solutions Ο Σταύρος Πίτογλου έλαβε το πτυχίο του στη Φυσική από \n",
       "το Πανεπιστήμιο Πατρών το 2000. Σήμερα κατέχει τη θέση του Chief Technical Officer στην Computer Solutions SA, \n",
       "υπεύθυνος για τις δραστηριότητες ...\n",
       "\n",
       "[Ο CTO της εταιρείας Stavros... - Computer Solutions \n",
       "SA](https://www.facebook.com/cssa.greece/posts/ο-cto-της-εταιρείας-stavros-pitoglou-παρουσιάζει-στο-session-e-healt\n",
       "h-in-greece-/1413865108643197/)\n",
       "Ο CTO της εταιρείας Stavros Pitoglou παρουσιάζει στο session \"E-HEALTH IN GREECE: CURRENT DEVELOPMENTS, FUTURE \n",
       "NEEDS\" (25 Οκτ. 18:30) με θέμα: MACHINE LEARNING SOLUTIONS FOR EHEALTH...\n",
       "\n",
       "[Episode #4 - Interview with Stavros Pitoglou - \n",
       "smartHEALTH](https://smarthealth-edih.eu/2024/03/15/episode-4-interview-with-stavros-pitoglou/)\n",
       "Disclaimer: The language spoken is Greek! Episode 4: Discussion with Stavros Pitoglou - Technical Director and \n",
       "Specialist in Research &amp; Development at Computer Solutions S.A. (CSSA) In our fourth episode, we converse with \n",
       "Stavros Pitoglou, an experienced expert in the intersection of technology and healthcare.\n",
       "\n",
       "[Stavros Pitoglou - Loop](https://loop.frontiersin.org/people/1610453/bio)\n",
       "Stavros Pitoglou received his BSc in Physics from the University of Patras, Greece in 2000. He currently holds the \n",
       "Chief Technical Officer position in Computer Solutions SA, being responsible for the company's Research and \n",
       "Development activities. Since 2004 he participated as Project Director or Senior Project Manager in several \n",
       "large-scale projects in the fields of Health IT and Medical ...\n",
       "\n",
       "[Computer Solutions SA - Software Development company in Greece - F6S \n",
       "...](https://www.f6s.com/company/computersolutionssa/)\n",
       "Computer Solutions SA - Software Development - Integrated Information Systems ... Athens, Greece; Founded 1987; ...\n",
       "Stavros Pitoglou. CTO · Founder · Athens, Greece. CTO @Computer Solutions SA. Find out more about Computer \n",
       "Solutions SA Connect with Computer Solutions SA team members See investors, traction and more ...\n",
       "\n",
       "[Stavros Pitoglou - LinkedIn](https://www.linkedin.com/today/author/stavrospitoglou)\n",
       "Check out professional insights posted by Stavros Pitoglou, Chief Technical Officer at Computer Solutions S.A. ... \n",
       "(Greek) English (English) Español (Spanish)\n",
       "\n",
       "[Stavros Pitoglou - Athens, Computer Solutions SA, Planning&amp; Development ...](https://about.me/stavros-pitoglou)\n",
       "Stavros Pitoglou Athens. I was born in 1974 in Athens. I studied physics in University of Patras, Greece. Computer \n",
       "geek and amateur programmer since the age of twelve, I worked for a few years as a hardware and network technician \n",
       "and a few more as a programmer for the Greek Healthcare IT Industry. ... working for Computer Solutions SA, one of \n",
       "...\n",
       "\n",
       "Out: None\n",
       "</pre>\n"
      ],
      "text/plain": [
       "\u001b[1mExecution logs:\u001b[0m\n",
       "## Search Results\n",
       "\n",
       "[Σταύρος Πιτόγλου - Τεχνικός Διευθυντής - | Computer Solutions S.A. \n",
       "LinkedIn](https://gr.linkedin.com/in/stavrospitoglou/el)\n",
       "Διευθυντής Ανάπτυξης και Σχεδιασμού στην Computer Solutions ΑΒΕΕ · Dr Stavros Pitoglou received his BSc in Physics \n",
       "from the University of Patras, Greece, in 2000 and his PhD Degree from the National Technical University of Athens \n",
       "in 2023. He currently holds the Chief Technical Officer position at Computer Solutions SA and is responsible for \n",
       "the company ...\n",
       "\n",
       "[Stavros Pitoglou | ethosEVENTS](https://ethosevents.eu/en/speaker/stavros-pitoglou-2/)\n",
       "Stavros Pitoglou Chief Technical Officer, Computer Solutions. Stavros Pitoglou received his BSc in Physics from the\n",
       "University of Patras, Greece in 2000. He currently holds the Chief Technical Officer position in Computer Solutions\n",
       "SA, being responsible for the company's Research and Development activities.\n",
       "\n",
       "[Πίτογλου Σταύρος - Εργαστήριο Βιοϊατρικής Τεχνολογίας](https://www.biomed.ntua.gr/el/item/pitoglou-stavros/)\n",
       "Ο Σταύρος Πιτόγλου είναι Τεχνικός Διευθυντής (CTO-Chief Technical Officer) και υπεύθυνος για τις δραστηριότητες \n",
       "Έρευνας και Ανάπτυξης (R&D-Research & Development) της εταιρείας Computer Solutions ΑΒΕΕ στην οποία εργάζεται από \n",
       "το 2003.\n",
       "\n",
       "[Σταύρος Πιτόγλου - ethosEVENTS](https://ethosevents.eu/speaker/stavros-pitoglou/)\n",
       "Σταύρος Πιτόγλου Chief Technical Officer, Computer Solutions Ο Σταύρος Πίτογλου έλαβε το πτυχίο του στη Φυσική από \n",
       "το Πανεπιστήμιο Πατρών το 2000. Σήμερα κατέχει τη θέση του Chief Technical Officer στην Computer Solutions SA, \n",
       "υπεύθυνος για τις δραστηριότητες ...\n",
       "\n",
       "[Ο CTO της εταιρείας Stavros... - Computer Solutions \n",
       "SA](https://www.facebook.com/cssa.greece/posts/ο-cto-της-εταιρείας-stavros-pitoglou-παρουσιάζει-στο-session-e-healt\n",
       "h-in-greece-/1413865108643197/)\n",
       "Ο CTO της εταιρείας Stavros Pitoglou παρουσιάζει στο session \"E-HEALTH IN GREECE: CURRENT DEVELOPMENTS, FUTURE \n",
       "NEEDS\" (25 Οκτ. 18:30) με θέμα: MACHINE LEARNING SOLUTIONS FOR EHEALTH...\n",
       "\n",
       "[Episode #4 - Interview with Stavros Pitoglou - \n",
       "smartHEALTH](https://smarthealth-edih.eu/2024/03/15/episode-4-interview-with-stavros-pitoglou/)\n",
       "Disclaimer: The language spoken is Greek! Episode 4: Discussion with Stavros Pitoglou - Technical Director and \n",
       "Specialist in Research & Development at Computer Solutions S.A. (CSSA) In our fourth episode, we converse with \n",
       "Stavros Pitoglou, an experienced expert in the intersection of technology and healthcare.\n",
       "\n",
       "[Stavros Pitoglou - Loop](https://loop.frontiersin.org/people/1610453/bio)\n",
       "Stavros Pitoglou received his BSc in Physics from the University of Patras, Greece in 2000. He currently holds the \n",
       "Chief Technical Officer position in Computer Solutions SA, being responsible for the company's Research and \n",
       "Development activities. Since 2004 he participated as Project Director or Senior Project Manager in several \n",
       "large-scale projects in the fields of Health IT and Medical ...\n",
       "\n",
       "[Computer Solutions SA - Software Development company in Greece - F6S \n",
       "...](https://www.f6s.com/company/computersolutionssa/)\n",
       "Computer Solutions SA - Software Development - Integrated Information Systems ... Athens, Greece; Founded 1987; ...\n",
       "Stavros Pitoglou. CTO · Founder · Athens, Greece. CTO @Computer Solutions SA. Find out more about Computer \n",
       "Solutions SA Connect with Computer Solutions SA team members See investors, traction and more ...\n",
       "\n",
       "[Stavros Pitoglou - LinkedIn](https://www.linkedin.com/today/author/stavrospitoglou)\n",
       "Check out professional insights posted by Stavros Pitoglou, Chief Technical Officer at Computer Solutions S.A. ... \n",
       "(Greek) English (English) Español (Spanish)\n",
       "\n",
       "[Stavros Pitoglou - Athens, Computer Solutions SA, Planning& Development ...](https://about.me/stavros-pitoglou)\n",
       "Stavros Pitoglou Athens. I was born in 1974 in Athens. I studied physics in University of Patras, Greece. Computer \n",
       "geek and amateur programmer since the age of twelve, I worked for a few years as a hardware and network technician \n",
       "and a few more as a programmer for the Greek Healthcare IT Industry. ... working for Computer Solutions SA, one of \n",
       "...\n",
       "\n",
       "Out: None\n"
      ]
     },
     "metadata": {},
     "output_type": "display_data"
    },
    {
     "data": {
      "text/html": [
       "<pre style=\"white-space:pre;overflow-x:auto;line-height:normal;font-family:Menlo,'DejaVu Sans Mono',consolas,'Courier New',monospace\"><span style=\"color: #7f7f7f; text-decoration-color: #7f7f7f\">[Step 1: Duration 4.68 seconds| Input tokens: 2,093 | Output tokens: 81]</span>\n",
       "</pre>\n"
      ],
      "text/plain": [
       "\u001b[2m[Step 1: Duration 4.68 seconds| Input tokens: 2,093 | Output tokens: 81]\u001b[0m\n"
      ]
     },
     "metadata": {},
     "output_type": "display_data"
    },
    {
     "data": {
      "text/html": [
       "<pre style=\"white-space:pre;overflow-x:auto;line-height:normal;font-family:Menlo,'DejaVu Sans Mono',consolas,'Courier New',monospace\"><span style=\"color: #d4b702; text-decoration-color: #d4b702\">━━━━━━━━━━━━━━━━━━━━━━━━━━━━━━━━━━━━━━━━━━━━━━━━━━━━━ </span><span style=\"font-weight: bold\">Step </span><span style=\"color: #008080; text-decoration-color: #008080; font-weight: bold\">2</span><span style=\"color: #d4b702; text-decoration-color: #d4b702\"> ━━━━━━━━━━━━━━━━━━━━━━━━━━━━━━━━━━━━━━━━━━━━━━━━━━━━━━</span>\n",
       "</pre>\n"
      ],
      "text/plain": [
       "\u001b[38;2;212;183;2m━━━━━━━━━━━━━━━━━━━━━━━━━━━━━━━━━━━━━━━━━━━━━━━━━━━━━ \u001b[0m\u001b[1mStep \u001b[0m\u001b[1;36m2\u001b[0m\u001b[38;2;212;183;2m ━━━━━━━━━━━━━━━━━━━━━━━━━━━━━━━━━━━━━━━━━━━━━━━━━━━━━━\u001b[0m\n"
      ]
     },
     "metadata": {},
     "output_type": "display_data"
    },
    {
     "data": {
      "text/html": [
       "<pre style=\"white-space:pre;overflow-x:auto;line-height:normal;font-family:Menlo,'DejaVu Sans Mono',consolas,'Courier New',monospace\"> ─ <span style=\"font-weight: bold\">Executing parsed code:</span> ──────────────────────────────────────────────────────────────────────────────────────── \n",
       "  <span style=\"color: #f8f8f2; text-decoration-color: #f8f8f2; background-color: #272822\">introduction </span><span style=\"color: #ff4689; text-decoration-color: #ff4689; background-color: #272822\">=</span><span style=\"color: #f8f8f2; text-decoration-color: #f8f8f2; background-color: #272822\"> (</span><span style=\"background-color: #272822\">                                                                                               </span>  \n",
       "  <span style=\"color: #f8f8f2; text-decoration-color: #f8f8f2; background-color: #272822\">    </span><span style=\"color: #e6db74; text-decoration-color: #e6db74; background-color: #272822\">\"Please join us in welcoming Dr. Stavros Pitoglou, the visionary Chief Technical Officer (CTO) of Computer </span>  \n",
       "  <span style=\"color: #e6db74; text-decoration-color: #e6db74; background-color: #272822\">Solutions SA in Greece! \"</span><span style=\"background-color: #272822\">                                                                                      </span>  \n",
       "  <span style=\"color: #f8f8f2; text-decoration-color: #f8f8f2; background-color: #272822\">    </span><span style=\"color: #e6db74; text-decoration-color: #e6db74; background-color: #272822\">\"Dr. Pitoglou earned his BSc in Physics from the University of Patras in 2000 and recently obtained his PhD</span>  \n",
       "  <span style=\"color: #e6db74; text-decoration-color: #e6db74; background-color: #272822\">Degree from the National Technical University of Athens in 2023. \"</span><span style=\"background-color: #272822\">                                             </span>  \n",
       "  <span style=\"color: #f8f8f2; text-decoration-color: #f8f8f2; background-color: #272822\">    </span><span style=\"color: #e6db74; text-decoration-color: #e6db74; background-color: #272822\">\"With over two decades of experience in the industry, Dr. Pitoglou has been pivotal in driving innovation </span><span style=\"background-color: #272822\"> </span>  \n",
       "  <span style=\"color: #e6db74; text-decoration-color: #e6db74; background-color: #272822\">and research and development efforts at Computer Solutions SA since 2003. \"</span><span style=\"background-color: #272822\">                                    </span>  \n",
       "  <span style=\"color: #f8f8f2; text-decoration-color: #f8f8f2; background-color: #272822\">    </span><span style=\"color: #e6db74; text-decoration-color: #e6db74; background-color: #272822\">\"As a seasoned expert in technology and healthcare, he has led several large-scale projects and is </span><span style=\"background-color: #272822\">        </span>  \n",
       "  <span style=\"color: #e6db74; text-decoration-color: #e6db74; background-color: #272822\">dedicated to advancing eHealth solutions through machine learning and cutting-edge technologies.\"</span><span style=\"background-color: #272822\">              </span>  \n",
       "  <span style=\"color: #f8f8f2; text-decoration-color: #f8f8f2; background-color: #272822\">)</span><span style=\"background-color: #272822\">                                                                                                              </span>  \n",
       "  <span style=\"color: #f8f8f2; text-decoration-color: #f8f8f2; background-color: #272822\">final_answer(introduction)</span><span style=\"background-color: #272822\">                                                                                     </span>  \n",
       " ───────────────────────────────────────────────────────────────────────────────────────────────────────────────── \n",
       "</pre>\n"
      ],
      "text/plain": [
       " ─ \u001b[1mExecuting parsed code:\u001b[0m ──────────────────────────────────────────────────────────────────────────────────────── \n",
       "  \u001b[38;2;248;248;242;48;2;39;40;34mintroduction\u001b[0m\u001b[38;2;248;248;242;48;2;39;40;34m \u001b[0m\u001b[38;2;255;70;137;48;2;39;40;34m=\u001b[0m\u001b[38;2;248;248;242;48;2;39;40;34m \u001b[0m\u001b[38;2;248;248;242;48;2;39;40;34m(\u001b[0m\u001b[48;2;39;40;34m                                                                                               \u001b[0m  \n",
       "  \u001b[38;2;248;248;242;48;2;39;40;34m    \u001b[0m\u001b[38;2;230;219;116;48;2;39;40;34m\"\u001b[0m\u001b[38;2;230;219;116;48;2;39;40;34mPlease join us in welcoming Dr. Stavros Pitoglou, the visionary Chief Technical Officer (CTO) of Computer \u001b[0m  \n",
       "  \u001b[38;2;230;219;116;48;2;39;40;34mSolutions SA in Greece! \u001b[0m\u001b[38;2;230;219;116;48;2;39;40;34m\"\u001b[0m\u001b[48;2;39;40;34m                                                                                      \u001b[0m  \n",
       "  \u001b[38;2;248;248;242;48;2;39;40;34m    \u001b[0m\u001b[38;2;230;219;116;48;2;39;40;34m\"\u001b[0m\u001b[38;2;230;219;116;48;2;39;40;34mDr. Pitoglou earned his BSc in Physics from the University of Patras in 2000 and recently obtained his PhD\u001b[0m  \n",
       "  \u001b[38;2;230;219;116;48;2;39;40;34mDegree from the National Technical University of Athens in 2023. \u001b[0m\u001b[38;2;230;219;116;48;2;39;40;34m\"\u001b[0m\u001b[48;2;39;40;34m                                             \u001b[0m  \n",
       "  \u001b[38;2;248;248;242;48;2;39;40;34m    \u001b[0m\u001b[38;2;230;219;116;48;2;39;40;34m\"\u001b[0m\u001b[38;2;230;219;116;48;2;39;40;34mWith over two decades of experience in the industry, Dr. Pitoglou has been pivotal in driving innovation \u001b[0m\u001b[48;2;39;40;34m \u001b[0m  \n",
       "  \u001b[38;2;230;219;116;48;2;39;40;34mand research and development efforts at Computer Solutions SA since 2003. \u001b[0m\u001b[38;2;230;219;116;48;2;39;40;34m\"\u001b[0m\u001b[48;2;39;40;34m                                    \u001b[0m  \n",
       "  \u001b[38;2;248;248;242;48;2;39;40;34m    \u001b[0m\u001b[38;2;230;219;116;48;2;39;40;34m\"\u001b[0m\u001b[38;2;230;219;116;48;2;39;40;34mAs a seasoned expert in technology and healthcare, he has led several large-scale projects and is \u001b[0m\u001b[48;2;39;40;34m        \u001b[0m  \n",
       "  \u001b[38;2;230;219;116;48;2;39;40;34mdedicated to advancing eHealth solutions through machine learning and cutting-edge technologies.\u001b[0m\u001b[38;2;230;219;116;48;2;39;40;34m\"\u001b[0m\u001b[48;2;39;40;34m              \u001b[0m  \n",
       "  \u001b[38;2;248;248;242;48;2;39;40;34m)\u001b[0m\u001b[48;2;39;40;34m                                                                                                              \u001b[0m  \n",
       "  \u001b[38;2;248;248;242;48;2;39;40;34mfinal_answer\u001b[0m\u001b[38;2;248;248;242;48;2;39;40;34m(\u001b[0m\u001b[38;2;248;248;242;48;2;39;40;34mintroduction\u001b[0m\u001b[38;2;248;248;242;48;2;39;40;34m)\u001b[0m\u001b[48;2;39;40;34m                                                                                     \u001b[0m  \n",
       " ───────────────────────────────────────────────────────────────────────────────────────────────────────────────── \n"
      ]
     },
     "metadata": {},
     "output_type": "display_data"
    },
    {
     "data": {
      "text/html": [
       "<pre style=\"white-space:pre;overflow-x:auto;line-height:normal;font-family:Menlo,'DejaVu Sans Mono',consolas,'Courier New',monospace\"><span style=\"color: #d4b702; text-decoration-color: #d4b702; font-weight: bold\">Out - Final answer: Please join us in welcoming Dr. Stavros Pitoglou, the visionary Chief Technical Officer (CTO) </span>\n",
       "<span style=\"color: #d4b702; text-decoration-color: #d4b702; font-weight: bold\">of Computer Solutions SA in Greece! Dr. Pitoglou earned his BSc in Physics from the University of Patras in 2000 </span>\n",
       "<span style=\"color: #d4b702; text-decoration-color: #d4b702; font-weight: bold\">and recently obtained his PhD Degree from the National Technical University of Athens in 2023. With over two </span>\n",
       "<span style=\"color: #d4b702; text-decoration-color: #d4b702; font-weight: bold\">decades of experience in the industry, Dr. Pitoglou has been pivotal in driving innovation and research and </span>\n",
       "<span style=\"color: #d4b702; text-decoration-color: #d4b702; font-weight: bold\">development efforts at Computer Solutions SA since 2003. As a seasoned expert in technology and healthcare, he has </span>\n",
       "<span style=\"color: #d4b702; text-decoration-color: #d4b702; font-weight: bold\">led several large-scale projects and is dedicated to advancing eHealth solutions through machine learning and </span>\n",
       "<span style=\"color: #d4b702; text-decoration-color: #d4b702; font-weight: bold\">cutting-edge technologies.</span>\n",
       "</pre>\n"
      ],
      "text/plain": [
       "\u001b[1;38;2;212;183;2mOut - Final answer: Please join us in welcoming Dr. Stavros Pitoglou, the visionary Chief Technical Officer (CTO) \u001b[0m\n",
       "\u001b[1;38;2;212;183;2mof Computer Solutions SA in Greece! Dr. Pitoglou earned his BSc in Physics from the University of Patras in 2000 \u001b[0m\n",
       "\u001b[1;38;2;212;183;2mand recently obtained his PhD Degree from the National Technical University of Athens in 2023. With over two \u001b[0m\n",
       "\u001b[1;38;2;212;183;2mdecades of experience in the industry, Dr. Pitoglou has been pivotal in driving innovation and research and \u001b[0m\n",
       "\u001b[1;38;2;212;183;2mdevelopment efforts at Computer Solutions SA since 2003. As a seasoned expert in technology and healthcare, he has \u001b[0m\n",
       "\u001b[1;38;2;212;183;2mled several large-scale projects and is dedicated to advancing eHealth solutions through machine learning and \u001b[0m\n",
       "\u001b[1;38;2;212;183;2mcutting-edge technologies.\u001b[0m\n"
      ]
     },
     "metadata": {},
     "output_type": "display_data"
    },
    {
     "data": {
      "text/html": [
       "<pre style=\"white-space:pre;overflow-x:auto;line-height:normal;font-family:Menlo,'DejaVu Sans Mono',consolas,'Courier New',monospace\"><span style=\"color: #7f7f7f; text-decoration-color: #7f7f7f\">[Step 2: Duration 11.34 seconds| Input tokens: 5,736 | Output tokens: 302]</span>\n",
       "</pre>\n"
      ],
      "text/plain": [
       "\u001b[2m[Step 2: Duration 11.34 seconds| Input tokens: 5,736 | Output tokens: 302]\u001b[0m\n"
      ]
     },
     "metadata": {},
     "output_type": "display_data"
    },
    {
     "data": {
      "text/plain": [
       "'Please join us in welcoming Dr. Stavros Pitoglou, the visionary Chief Technical Officer (CTO) of Computer Solutions SA in Greece! Dr. Pitoglou earned his BSc in Physics from the University of Patras in 2000 and recently obtained his PhD Degree from the National Technical University of Athens in 2023. With over two decades of experience in the industry, Dr. Pitoglou has been pivotal in driving innovation and research and development efforts at Computer Solutions SA since 2003. As a seasoned expert in technology and healthcare, he has led several large-scale projects and is dedicated to advancing eHealth solutions through machine learning and cutting-edge technologies.'"
      ]
     },
     "execution_count": 6,
     "metadata": {},
     "output_type": "execute_result"
    }
   ],
   "source": [
    "from smolagents import CodeAgent, DuckDuckGoSearchTool, HfApiModel\n",
    "from dotenv import load_dotenv\n",
    "import os\n",
    "\n",
    "load_dotenv()\n",
    "\n",
    "model = HfApiModel(token=os.getenv(\"HUGGINGFACE_TOKEN\"))\n",
    "agent = CodeAgent(tools=[DuckDuckGoSearchTool()], model=model)\n",
    "\n",
    "agent.run(\"Provide an envent speaker introduction for Dr Stavros Pitoglou, CTO of Computer Solutions in Greece?\")"
   ]
  }
 ],
 "metadata": {
  "kernelspec": {
   "display_name": ".venv",
   "language": "python",
   "name": "python3"
  },
  "language_info": {
   "codemirror_mode": {
    "name": "ipython",
    "version": 3
   },
   "file_extension": ".py",
   "mimetype": "text/x-python",
   "name": "python",
   "nbconvert_exporter": "python",
   "pygments_lexer": "ipython3",
   "version": "3.12.7"
  }
 },
 "nbformat": 4,
 "nbformat_minor": 2
}
