{
 "cells": [
  {
   "cell_type": "code",
   "execution_count": 1,
   "metadata": {},
   "outputs": [
    {
     "name": "stderr",
     "output_type": "stream",
     "text": [
      "\u001b[32m2025-03-12 08:54:16.060\u001b[0m | \u001b[1mINFO    \u001b[0m | \u001b[36mcssallmlib.vectordb.operations\u001b[0m:\u001b[36m__init__\u001b[0m:\u001b[36m8\u001b[0m - \u001b[1mInitializing VectorDB Manager\u001b[0m\n",
      "c:\\Users\\pstavros\\.conda\\envs\\cssallm\\Lib\\site-packages\\tqdm\\auto.py:21: TqdmWarning: IProgress not found. Please update jupyter and ipywidgets. See https://ipywidgets.readthedocs.io/en/stable/user_install.html\n",
      "  from .autonotebook import tqdm as notebook_tqdm\n"
     ]
    }
   ],
   "source": [
    "from cssallmlib.vectordb.chroma_db import ChromaManager\n",
    "from langchain_core.documents import Document\n",
    "\n",
    "chroma_manager = ChromaManager()"
   ]
  },
  {
   "cell_type": "code",
   "execution_count": 42,
   "metadata": {},
   "outputs": [
    {
     "data": {
      "text/plain": [
       "[Document(id='1', metadata={'source': 'tweet'}, page_content='I had chocolate chip pancakes and scrambled eggs for breakfast this morning.'),\n",
       " Document(id='2', metadata={'source': 'news'}, page_content='The weather forecast for tomorrow is cloudy and overcast, with a high of 62 degrees.'),\n",
       " Document(id='3', metadata={'source': 'tweet'}, page_content='Building an exciting new project with LangChain - come check it out!'),\n",
       " Document(id='4', metadata={'source': 'news'}, page_content='Robbers broke into the city bank and stole $1 million in cash.'),\n",
       " Document(id='5', metadata={'source': 'tweet'}, page_content=\"Wow! That was an amazing movie. I can't wait to see it again.\"),\n",
       " Document(id='6', metadata={'source': 'website'}, page_content='Is the new iPhone worth the price? Read this review to find out.'),\n",
       " Document(id='7', metadata={'source': 'website'}, page_content='The top 10 soccer players in the world right now.'),\n",
       " Document(id='8', metadata={'source': 'tweet'}, page_content='LangGraph is the best framework for building stateful, agentic applications!'),\n",
       " Document(id='9', metadata={'source': 'news'}, page_content='The stock market is down 500 points today due to fears of a recession.'),\n",
       " Document(id='10', metadata={'source': 'tweet'}, page_content='I have a bad feeling I am going to get deleted :(')]"
      ]
     },
     "execution_count": 42,
     "metadata": {},
     "output_type": "execute_result"
    }
   ],
   "source": [
    "document_1 = Document(\n",
    "    page_content=\"I had chocolate chip pancakes and scrambled eggs for breakfast this morning.\",\n",
    "    metadata={\"source\": \"tweet\"},\n",
    "    id=1,\n",
    ")\n",
    "\n",
    "document_2 = Document(\n",
    "    page_content=\"The weather forecast for tomorrow is cloudy and overcast, with a high of 62 degrees.\",\n",
    "    metadata={\"source\": \"news\"},\n",
    "    id=2,\n",
    ")\n",
    "\n",
    "document_3 = Document(\n",
    "    page_content=\"Building an exciting new project with LangChain - come check it out!\",\n",
    "    metadata={\"source\": \"tweet\"},\n",
    "    id=3,\n",
    ")\n",
    "\n",
    "document_4 = Document(\n",
    "    page_content=\"Robbers broke into the city bank and stole $1 million in cash.\",\n",
    "    metadata={\"source\": \"news\"},\n",
    "    id=4,\n",
    ")\n",
    "\n",
    "document_5 = Document(\n",
    "    page_content=\"Wow! That was an amazing movie. I can't wait to see it again.\",\n",
    "    metadata={\"source\": \"tweet\"},\n",
    "    id=5,\n",
    ")\n",
    "\n",
    "document_6 = Document(\n",
    "    page_content=\"Is the new iPhone worth the price? Read this review to find out.\",\n",
    "    metadata={\"source\": \"website\"},\n",
    "    id=6,\n",
    ")\n",
    "\n",
    "document_7 = Document(\n",
    "    page_content=\"The top 10 soccer players in the world right now.\",\n",
    "    metadata={\"source\": \"website\"},\n",
    "    id=7,\n",
    ")\n",
    "\n",
    "document_8 = Document(\n",
    "    page_content=\"LangGraph is the best framework for building stateful, agentic applications!\",\n",
    "    metadata={\"source\": \"tweet\"},\n",
    "    id=8,\n",
    ")\n",
    "\n",
    "document_9 = Document(\n",
    "    page_content=\"The stock market is down 500 points today due to fears of a recession.\",\n",
    "    metadata={\"source\": \"news\"},\n",
    "    id=9,\n",
    ")\n",
    "\n",
    "document_10 = Document(\n",
    "    page_content=\"I have a bad feeling I am going to get deleted :(\",\n",
    "    metadata={\"source\": \"tweet\"},\n",
    "    id=10,\n",
    ")\n",
    "\n",
    "documents = [\n",
    "    document_1,\n",
    "    document_2,\n",
    "    document_3,\n",
    "    document_4,\n",
    "    document_5,\n",
    "    document_6,\n",
    "    document_7,\n",
    "    document_8,\n",
    "    document_9,\n",
    "    document_10,\n",
    "]\n",
    "documents"
   ]
  },
  {
   "cell_type": "code",
   "execution_count": 43,
   "metadata": {},
   "outputs": [
    {
     "name": "stderr",
     "output_type": "stream",
     "text": [
      "\u001b[32m2025-03-12 08:41:03.322\u001b[0m | \u001b[1mINFO    \u001b[0m | \u001b[36mcssallmlib.vectordb.chroma_db\u001b[0m:\u001b[36mupsert_documents\u001b[0m:\u001b[36m27\u001b[0m - \u001b[1m['b7104e83-ac07-4538-a839-2e2f41a1c43c', 'da76335b-c988-4ef6-980f-685e16dae235', '76281cd5-14da-490b-952d-f195bc13eb25', '258ad13c-8904-48e6-8574-726a6ecca40c', 'd874ab1e-dbec-4bca-8ab1-0cd6837c1f09', '6164539e-d78d-4fa0-97d0-2be76c19b5dd', '5ebc8067-8b50-40d7-bdbf-d61ba47042d1', '51e9e0e9-0b61-40e7-9802-943924cedc72', 'be9f2218-5185-4cda-9f29-3e879499a5ce', '3cfd82d9-1161-4cba-9c5e-93c6696e41b6']\u001b[0m\n",
      "\u001b[32m2025-03-12 08:41:03.480\u001b[0m | \u001b[1mINFO    \u001b[0m | \u001b[36mcssallmlib.vectordb.chroma_db\u001b[0m:\u001b[36mupsert_documents\u001b[0m:\u001b[36m33\u001b[0m - \u001b[1m['b7104e83-ac07-4538-a839-2e2f41a1c43c', 'da76335b-c988-4ef6-980f-685e16dae235', '76281cd5-14da-490b-952d-f195bc13eb25', '258ad13c-8904-48e6-8574-726a6ecca40c', 'd874ab1e-dbec-4bca-8ab1-0cd6837c1f09', '6164539e-d78d-4fa0-97d0-2be76c19b5dd', '5ebc8067-8b50-40d7-bdbf-d61ba47042d1', '51e9e0e9-0b61-40e7-9802-943924cedc72', 'be9f2218-5185-4cda-9f29-3e879499a5ce', '3cfd82d9-1161-4cba-9c5e-93c6696e41b6']\u001b[0m\n"
     ]
    }
   ],
   "source": [
    "\n",
    "chroma_manager.upsert_documents(documents=documents)"
   ]
  },
  {
   "cell_type": "code",
   "execution_count": 44,
   "metadata": {},
   "outputs": [
    {
     "data": {
      "text/plain": [
       "['default']"
      ]
     },
     "execution_count": 44,
     "metadata": {},
     "output_type": "execute_result"
    }
   ],
   "source": [
    "chroma_manager.client.list_collections()"
   ]
  },
  {
   "cell_type": "code",
   "execution_count": 45,
   "metadata": {},
   "outputs": [
    {
     "data": {
      "text/plain": [
       "10"
      ]
     },
     "execution_count": 45,
     "metadata": {},
     "output_type": "execute_result"
    }
   ],
   "source": [
    "chroma_manager.count_documents()"
   ]
  },
  {
   "cell_type": "code",
   "execution_count": 46,
   "metadata": {},
   "outputs": [],
   "source": [
    "_get_all_documents = chroma_manager.get_all_documents()\n"
   ]
  },
  {
   "cell_type": "code",
   "execution_count": 47,
   "metadata": {},
   "outputs": [
    {
     "data": {
      "text/plain": [
       "['b7104e83-ac07-4538-a839-2e2f41a1c43c',\n",
       " 'da76335b-c988-4ef6-980f-685e16dae235',\n",
       " '76281cd5-14da-490b-952d-f195bc13eb25',\n",
       " '258ad13c-8904-48e6-8574-726a6ecca40c',\n",
       " 'd874ab1e-dbec-4bca-8ab1-0cd6837c1f09',\n",
       " '6164539e-d78d-4fa0-97d0-2be76c19b5dd',\n",
       " '5ebc8067-8b50-40d7-bdbf-d61ba47042d1',\n",
       " '51e9e0e9-0b61-40e7-9802-943924cedc72',\n",
       " 'be9f2218-5185-4cda-9f29-3e879499a5ce',\n",
       " '3cfd82d9-1161-4cba-9c5e-93c6696e41b6']"
      ]
     },
     "execution_count": 47,
     "metadata": {},
     "output_type": "execute_result"
    }
   ],
   "source": [
    "_get_all_documents['ids']\n"
   ]
  },
  {
   "cell_type": "code",
   "execution_count": 48,
   "metadata": {},
   "outputs": [
    {
     "data": {
      "text/plain": [
       "{'ids': ['b7104e83-ac07-4538-a839-2e2f41a1c43c'],\n",
       " 'embeddings': None,\n",
       " 'documents': ['I had chocolate chip pancakes and scrambled eggs for breakfast this morning.'],\n",
       " 'uris': None,\n",
       " 'data': None,\n",
       " 'metadatas': [{'source': 'tweet'}],\n",
       " 'included': [<IncludeEnum.documents: 'documents'>,\n",
       "  <IncludeEnum.metadatas: 'metadatas'>]}"
      ]
     },
     "execution_count": 48,
     "metadata": {},
     "output_type": "execute_result"
    }
   ],
   "source": [
    "chroma_manager.get_document(chroma_manager.last_ids[0])\n"
   ]
  },
  {
   "cell_type": "code",
   "execution_count": 49,
   "metadata": {},
   "outputs": [
    {
     "data": {
      "text/plain": [
       "['b7104e83-ac07-4538-a839-2e2f41a1c43c',\n",
       " 'da76335b-c988-4ef6-980f-685e16dae235',\n",
       " '76281cd5-14da-490b-952d-f195bc13eb25',\n",
       " '258ad13c-8904-48e6-8574-726a6ecca40c',\n",
       " 'd874ab1e-dbec-4bca-8ab1-0cd6837c1f09',\n",
       " '6164539e-d78d-4fa0-97d0-2be76c19b5dd',\n",
       " '5ebc8067-8b50-40d7-bdbf-d61ba47042d1',\n",
       " '51e9e0e9-0b61-40e7-9802-943924cedc72',\n",
       " 'be9f2218-5185-4cda-9f29-3e879499a5ce',\n",
       " '3cfd82d9-1161-4cba-9c5e-93c6696e41b6']"
      ]
     },
     "execution_count": 49,
     "metadata": {},
     "output_type": "execute_result"
    }
   ],
   "source": [
    "chroma_manager.last_ids\n"
   ]
  },
  {
   "cell_type": "code",
   "execution_count": 50,
   "metadata": {},
   "outputs": [
    {
     "data": {
      "text/plain": [
       "['b7104e83-ac07-4538-a839-2e2f41a1c43c',\n",
       " 'da76335b-c988-4ef6-980f-685e16dae235',\n",
       " '76281cd5-14da-490b-952d-f195bc13eb25',\n",
       " '258ad13c-8904-48e6-8574-726a6ecca40c',\n",
       " 'd874ab1e-dbec-4bca-8ab1-0cd6837c1f09',\n",
       " '6164539e-d78d-4fa0-97d0-2be76c19b5dd',\n",
       " '5ebc8067-8b50-40d7-bdbf-d61ba47042d1',\n",
       " '51e9e0e9-0b61-40e7-9802-943924cedc72',\n",
       " 'be9f2218-5185-4cda-9f29-3e879499a5ce',\n",
       " '3cfd82d9-1161-4cba-9c5e-93c6696e41b6']"
      ]
     },
     "execution_count": 50,
     "metadata": {},
     "output_type": "execute_result"
    }
   ],
   "source": [
    "_get_all_documents['ids']\n"
   ]
  },
  {
   "cell_type": "code",
   "execution_count": 38,
   "metadata": {},
   "outputs": [],
   "source": [
    "chroma_manager.vector_store.reset_collection()\n"
   ]
  },
  {
   "cell_type": "code",
   "execution_count": 2,
   "metadata": {},
   "outputs": [
    {
     "data": {
      "text/plain": [
       "[Document(id='76281cd5-14da-490b-952d-f195bc13eb25', metadata={'source': 'tweet'}, page_content='Building an exciting new project with LangChain - come check it out!'),\n",
       " Document(id='51e9e0e9-0b61-40e7-9802-943924cedc72', metadata={'source': 'tweet'}, page_content='LangGraph is the best framework for building stateful, agentic applications!')]"
      ]
     },
     "execution_count": 2,
     "metadata": {},
     "output_type": "execute_result"
    }
   ],
   "source": [
    "chroma_manager.search_documents(\"LangChain provides abstractions to make working with LLMs easy\", k=2,)"
   ]
  },
  {
   "cell_type": "code",
   "execution_count": 3,
   "metadata": {},
   "outputs": [
    {
     "data": {
      "text/plain": [
       "[(Document(id='76281cd5-14da-490b-952d-f195bc13eb25', metadata={'source': 'tweet'}, page_content='Building an exciting new project with LangChain - come check it out!'),\n",
       "  0.8416443648256993),\n",
       " (Document(id='51e9e0e9-0b61-40e7-9802-943924cedc72', metadata={'source': 'tweet'}, page_content='LangGraph is the best framework for building stateful, agentic applications!'),\n",
       "  1.0184285532232482)]"
      ]
     },
     "execution_count": 3,
     "metadata": {},
     "output_type": "execute_result"
    }
   ],
   "source": [
    "chroma_manager.search_documents(\"LangChain provides abstractions to make working with LLMs easy\", k=2, with_score=True)"
   ]
  },
  {
   "cell_type": "code",
   "execution_count": 4,
   "metadata": {},
   "outputs": [
    {
     "name": "stdout",
     "output_type": "stream",
     "text": [
      "* The weather forecast for tomorrow is cloudy and overcast, with a high of 62 degrees. [{'source': 'news'}]\n"
     ]
    }
   ],
   "source": [
    "results = chroma_manager.search_documents(\"Will it be hot tomorrow?\", k=1, filter={\"source\": \"news\"})\n",
    "for res in results:\n",
    "    print(f\"* {res.page_content} [{res.metadata}]\")\n"
   ]
  },
  {
   "cell_type": "code",
   "execution_count": 6,
   "metadata": {},
   "outputs": [
    {
     "name": "stdout",
     "output_type": "stream",
     "text": [
      "* [SIM=0.916557] The weather forecast for tomorrow is cloudy and overcast, with a high of 62 degrees. [{'source': 'news'}]\n",
      "* [SIM=1.770944] The stock market is down 500 points today due to fears of a recession. [{'source': 'news'}]\n"
     ]
    }
   ],
   "source": [
    "results = chroma_manager.search_documents(\"Will it be hot tomorrow?\", k=2, filter={\"source\": \"news\"}, with_score=True)\n",
    "for res, score in results:\n",
    "    print(f\"* [SIM={score:3f}] {res.page_content} [{res.metadata}]\")"
   ]
  }
 ],
 "metadata": {
  "kernelspec": {
   "display_name": "cssallm",
   "language": "python",
   "name": "python3"
  },
  "language_info": {
   "codemirror_mode": {
    "name": "ipython",
    "version": 3
   },
   "file_extension": ".py",
   "mimetype": "text/x-python",
   "name": "python",
   "nbconvert_exporter": "python",
   "pygments_lexer": "ipython3",
   "version": "3.12.9"
  }
 },
 "nbformat": 4,
 "nbformat_minor": 2
}
